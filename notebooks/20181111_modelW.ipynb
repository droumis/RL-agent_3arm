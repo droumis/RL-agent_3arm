{
 "cells": [
  {
   "cell_type": "markdown",
   "metadata": {},
   "source": [
    "# W track modeling"
   ]
  },
  {
   "cell_type": "markdown",
   "metadata": {},
   "source": [
    "- observation space is non-repeating two-well combinations of the 3 wells = 6 states \n",
    "- action space is the 3 wells \n",
    "- reward table would be the observation space x action space with values reinforcing alternation rule"
   ]
  },
  {
   "cell_type": "code",
   "execution_count": 645,
   "metadata": {},
   "outputs": [],
   "source": [
    "import itertools\n",
    "import random\n",
    "import numpy as np\n",
    "import matplotlib\n",
    "%matplotlib inline"
   ]
  },
  {
   "cell_type": "code",
   "execution_count": 350,
   "metadata": {},
   "outputs": [],
   "source": [
    "all_wells = ('A', 'B', 'C')\n",
    "outer_wells = ('A', 'C')\n",
    "home_well = ('B')"
   ]
  },
  {
   "cell_type": "code",
   "execution_count": 499,
   "metadata": {},
   "outputs": [],
   "source": [
    "# all possible two-well non-repeating combinations\n",
    "observation_space = list(itertools.product(all_wells, repeat=2))"
   ]
  },
  {
   "cell_type": "code",
   "execution_count": 500,
   "metadata": {},
   "outputs": [
    {
     "name": "stdout",
     "output_type": "stream",
     "text": [
      "observation space [('A', 'A'), ('A', 'B'), ('A', 'C'), ('B', 'A'), ('B', 'B'), ('B', 'C'), ('C', 'A'), ('C', 'B'), ('C', 'C')]\n",
      "\n",
      "action space ('A', 'B', 'C')\n"
     ]
    }
   ],
   "source": [
    "# the possible actions at any state\n",
    "action_space = all_wells\n",
    "\n",
    "print('observation space {}\\n'.format(observation_space))\n",
    "print('action space {}'.format(action_space))"
   ]
  },
  {
   "cell_type": "code",
   "execution_count": 520,
   "metadata": {},
   "outputs": [
    {
     "name": "stdout",
     "output_type": "stream",
     "text": [
      "outbound rewarded sequences [('A', 'B', 'C'), ('B', 'B', 'A'), ('B', 'B', 'C'), ('C', 'B', 'A')]\n",
      "\n",
      "inbound rewarded sequences [('A', 'A', 'B'), ('A', 'C', 'B'), ('B', 'A', 'B'), ('B', 'C', 'B'), ('C', 'A', 'B'), ('C', 'C', 'B')]\n",
      "\n"
     ]
    }
   ],
   "source": [
    "# get rewarded sequences to populate reward table\n",
    "sequences = list(itertools.product(all_wells, repeat=3))\n",
    "\n",
    "outbound_rewarded_sequences = []\n",
    "inbound_rewarded_sequences = []\n",
    "for seq in sequences:\n",
    "    if seq[0] in outer_wells and seq[2] in outer_wells and seq[0] != seq[2] and seq[1] in home_well:\n",
    "        outbound_rewarded_sequences.append(seq)\n",
    "    if seq[0] in home_well and seq[1] in home_well and seq[2] in outer_wells:\n",
    "        #special case that i'm making up: the out bound correct arm 'resets' if the last two wells visited were the home well\n",
    "        outbound_rewarded_sequences.append(seq)\n",
    "    if seq[1] in outer_wells and seq[2] in home_well:\n",
    "        inbound_rewarded_sequences.append(seq)\n",
    "\n",
    "print('outbound rewarded sequences {}\\n'.format(outbound_rewarded_sequences))\n",
    "print('inbound rewarded sequences {}\\n'.format(inbound_rewarded_sequences))"
   ]
  },
  {
   "cell_type": "code",
   "execution_count": 521,
   "metadata": {},
   "outputs": [],
   "source": [
    "def make_reward_table():\n",
    "    reward_table = {}\n",
    "    for obsv in observation_space:\n",
    "        current_well = obsv[-1]\n",
    "        reward_table[obsv] = {}\n",
    "        for act in action_space:\n",
    "            reward_table[obsv][act] = {}\n",
    "#             if act == current_well:\n",
    "#                 # if the action is the same as the most recent well, \n",
    "#                 # loop back obvs state and draw penalty\n",
    "#                 reward_table[obsv][act]['next_state'] = obsv\n",
    "#             else:\n",
    "            reward_table[obsv][act]['next_state'] = tuple([current_well, act])\n",
    "            # set reward value\n",
    "            if obsv + tuple(act) in outbound_rewarded_sequences:\n",
    "                reward_table[obsv][act]['reward'] = 1\n",
    "            elif obsv + tuple(act) in inbound_rewarded_sequences:\n",
    "                reward_table[obsv][act]['reward'] = 1\n",
    "            else:\n",
    "                reward_table[obsv][act]['reward'] = 0\n",
    "    return reward_table"
   ]
  },
  {
   "cell_type": "code",
   "execution_count": 522,
   "metadata": {},
   "outputs": [],
   "source": [
    "# initialize q table to zeros\n",
    "def init_q_table():\n",
    "    q_table = {}\n",
    "    for obsv in observation_space:\n",
    "        q_table[obsv] = {}\n",
    "        for act in action_space:\n",
    "            q_table[obsv][act] = 0\n",
    "    return q_table"
   ]
  },
  {
   "cell_type": "code",
   "execution_count": 523,
   "metadata": {},
   "outputs": [],
   "source": [
    "def check_q_table(q_table):\n",
    "    #quick check if q table, followed greedily without further updates, is consistent with W rules\n",
    "    if type(q_table) == dict:\n",
    "        q_table_max_sequences = [tuple(list(state) + list(max(actions, key=lambda act: actions[act]))) for state, actions in q_table.items()]\n",
    "    elif type(q_table) == pd.DataFrame:\n",
    "        smax = q_table_df.idxmax(axis=1)\n",
    "        q_table_max_sequences = [ind + tuple(maxv) for ind, maxv in zip(smax.index, smax.values)]\n",
    "        print(q_table_max_sequences)\n",
    "    check = set(q_table_max_sequences).issubset(outbound_rewarded_sequences+inbound_rewarded_sequences)\n",
    "    if check:\n",
    "        print('q_table consistent with W-TRACK rules')\n",
    "    else:\n",
    "        print('q_table NOT consistent with W-TRACK rules')\n",
    "    return "
   ]
  },
  {
   "cell_type": "code",
   "execution_count": 524,
   "metadata": {},
   "outputs": [],
   "source": [
    "def init_state_df():\n",
    "    zeros_array = np.zeros((len(observation_space), len(action_space)))\n",
    "    state_df = pd.DataFrame(zeros_array, index=observation_space, columns=action_space)\n",
    "    return state_df"
   ]
  },
  {
   "cell_type": "code",
   "execution_count": 525,
   "metadata": {},
   "outputs": [],
   "source": [
    "reward_table = make_reward_table()"
   ]
  },
  {
   "cell_type": "markdown",
   "metadata": {},
   "source": [
    "# Q-Learning with e-greedy"
   ]
  },
  {
   "cell_type": "code",
   "execution_count": 697,
   "metadata": {},
   "outputs": [
    {
     "name": "stdout",
     "output_type": "stream",
     "text": [
      "CPU times: user 611 ms, sys: 10.3 ms, total: 621 ms\n",
      "Wall time: 709 ms\n"
     ]
    }
   ],
   "source": [
    "%%time\n",
    "\n",
    "alpha = 0.6\n",
    "gamma = 0.9\n",
    "epsilon = 0.1\n",
    "\n",
    "q_table_df = init_state_df()\n",
    "\n",
    "state = random.choice(observation_space)\n",
    "q_learn_rewards = []\n",
    "\n",
    "for i in range(1, 1000):\n",
    "    # act\n",
    "    if random.uniform(0, 1) < epsilon:\n",
    "        # Explore action space\n",
    "        action = random.choice(all_wells)\n",
    "    else:\n",
    "        action = q_table_df.xs(state).idxmax()\n",
    "    # gather\n",
    "    # gather\n",
    "    reward = reward_table[state][action]['reward']\n",
    "    next_state = reward_table[state][action]['next_state']\n",
    "    \n",
    "    old_qvalue = q_table_df.xs(state)[action]\n",
    "    next_max_qvalue = q_table_df.xs(next_state).max()\n",
    "    \n",
    "    # update\n",
    "    new_value = (1 - alpha) * old_qvalue + alpha * (reward + gamma * next_max_qvalue)\n",
    "    q_table_df.xs(state)[action] = new_value\n",
    "\n",
    "    # iterate\n",
    "    state = reward_table[state][action]['next_state']\n",
    "    #save\n",
    "    q_learn_rewards.append(reward)\n"
   ]
  },
  {
   "cell_type": "code",
   "execution_count": 698,
   "metadata": {},
   "outputs": [
    {
     "data": {
      "text/html": [
       "<div>\n",
       "<style scoped>\n",
       "    .dataframe tbody tr th:only-of-type {\n",
       "        vertical-align: middle;\n",
       "    }\n",
       "\n",
       "    .dataframe tbody tr th {\n",
       "        vertical-align: top;\n",
       "    }\n",
       "\n",
       "    .dataframe thead th {\n",
       "        text-align: right;\n",
       "    }\n",
       "</style>\n",
       "<table border=\"1\" class=\"dataframe\">\n",
       "  <thead>\n",
       "    <tr style=\"text-align: right;\">\n",
       "      <th></th>\n",
       "      <th>A</th>\n",
       "      <th>B</th>\n",
       "      <th>C</th>\n",
       "    </tr>\n",
       "  </thead>\n",
       "  <tbody>\n",
       "    <tr>\n",
       "      <th>(A, A)</th>\n",
       "      <td>2.829317</td>\n",
       "      <td>6.678941</td>\n",
       "      <td>2.288005</td>\n",
       "    </tr>\n",
       "    <tr>\n",
       "      <th>(A, B)</th>\n",
       "      <td>5.878449</td>\n",
       "      <td>6.309951</td>\n",
       "      <td>5.611071</td>\n",
       "    </tr>\n",
       "    <tr>\n",
       "      <th>(A, C)</th>\n",
       "      <td>5.380966</td>\n",
       "      <td>0.000000</td>\n",
       "      <td>0.000000</td>\n",
       "    </tr>\n",
       "    <tr>\n",
       "      <th>(B, A)</th>\n",
       "      <td>6.005986</td>\n",
       "      <td>6.678955</td>\n",
       "      <td>4.688727</td>\n",
       "    </tr>\n",
       "    <tr>\n",
       "      <th>(B, B)</th>\n",
       "      <td>7.011058</td>\n",
       "      <td>6.281762</td>\n",
       "      <td>5.299796</td>\n",
       "    </tr>\n",
       "    <tr>\n",
       "      <th>(B, C)</th>\n",
       "      <td>5.383844</td>\n",
       "      <td>0.000000</td>\n",
       "      <td>0.000000</td>\n",
       "    </tr>\n",
       "    <tr>\n",
       "      <th>(C, A)</th>\n",
       "      <td>6.010800</td>\n",
       "      <td>3.157890</td>\n",
       "      <td>2.545236</td>\n",
       "    </tr>\n",
       "    <tr>\n",
       "      <th>(C, B)</th>\n",
       "      <td>0.000000</td>\n",
       "      <td>0.000000</td>\n",
       "      <td>0.000000</td>\n",
       "    </tr>\n",
       "    <tr>\n",
       "      <th>(C, C)</th>\n",
       "      <td>3.226855</td>\n",
       "      <td>0.000000</td>\n",
       "      <td>0.000000</td>\n",
       "    </tr>\n",
       "  </tbody>\n",
       "</table>\n",
       "</div>"
      ],
      "text/plain": [
       "               A         B         C\n",
       "(A, A)  2.829317  6.678941  2.288005\n",
       "(A, B)  5.878449  6.309951  5.611071\n",
       "(A, C)  5.380966  0.000000  0.000000\n",
       "(B, A)  6.005986  6.678955  4.688727\n",
       "(B, B)  7.011058  6.281762  5.299796\n",
       "(B, C)  5.383844  0.000000  0.000000\n",
       "(C, A)  6.010800  3.157890  2.545236\n",
       "(C, B)  0.000000  0.000000  0.000000\n",
       "(C, C)  3.226855  0.000000  0.000000"
      ]
     },
     "execution_count": 698,
     "metadata": {},
     "output_type": "execute_result"
    }
   ],
   "source": [
    "q_table_df"
   ]
  },
  {
   "cell_type": "code",
   "execution_count": 699,
   "metadata": {},
   "outputs": [
    {
     "name": "stdout",
     "output_type": "stream",
     "text": [
      "[('A', 'A', 'B'), ('A', 'B', 'B'), ('A', 'C', 'A'), ('B', 'A', 'B'), ('B', 'B', 'A'), ('B', 'C', 'A'), ('C', 'A', 'A'), ('C', 'B', 'A'), ('C', 'C', 'A')]\n",
      "q_table NOT consistent with W-TRACK rules\n"
     ]
    }
   ],
   "source": [
    "check_q_table(q_table_df)"
   ]
  },
  {
   "cell_type": "code",
   "execution_count": 700,
   "metadata": {},
   "outputs": [
    {
     "data": {
      "text/plain": [
       "<matplotlib.axes._subplots.AxesSubplot at 0x11a9c5908>"
      ]
     },
     "execution_count": 700,
     "metadata": {},
     "output_type": "execute_result"
    },
    {
     "data": {
      "image/png": "[encoded data removed]",
      "text/plain": [
       "<Figure size 432x288 with 1 Axes>"
      ]
     },
     "metadata": {
      "needs_background": "light"
     },
     "output_type": "display_data"
    }
   ],
   "source": [
    "q_learn_norm_rewards = np.cumsum(q_learn_rewards)/np.arange(1,len(q_learn_rewards)+1)\n",
    "pd.DataFrame(q_learn_norm_rewards).plot()"
   ]
  },
  {
   "cell_type": "markdown",
   "metadata": {},
   "source": [
    "# TD(0) with e-greedy"
   ]
  },
  {
   "cell_type": "code",
   "execution_count": 701,
   "metadata": {},
   "outputs": [
    {
     "name": "stdout",
     "output_type": "stream",
     "text": [
      "CPU times: user 586 ms, sys: 7.9 ms, total: 594 ms\n",
      "Wall time: 675 ms\n"
     ]
    }
   ],
   "source": [
    "%%time\n",
    "\n",
    "alpha = 0.6\n",
    "gamma = 0.9\n",
    "epsilon = 0.1\n",
    "\n",
    "q_table_df = init_state_df()\n",
    "\n",
    "state = random.choice(observation_space)\n",
    "TD_zero_rewards = []\n",
    "\n",
    "for i in range(1, 1000):\n",
    "    # act\n",
    "    if random.uniform(0, 1) < epsilon:\n",
    "        # Explore action space\n",
    "        action = random.choice(all_wells)\n",
    "    else:\n",
    "        action = q_table_df.xs(state).idxmax()\n",
    "    # gather\n",
    "    reward = reward_table[state][action]['reward']\n",
    "    next_state = reward_table[state][action]['next_state']\n",
    "    \n",
    "    old_qvalue = q_table_df.xs(state)[action]\n",
    "    next_max_qvalue = q_table_df.xs(next_state).max()\n",
    "\n",
    "    #update\n",
    "    td_error = reward + gamma * next_max_qvalue - old_qvalue\n",
    "    new_value = alpha * td_error\n",
    "    q_table_df.xs(state)[action] = new_value\n",
    "    \n",
    "    # iterate\n",
    "    state = reward_table[state][action]['next_state']\n",
    "    #save\n",
    "    TD_zero_rewards.append(reward)"
   ]
  },
  {
   "cell_type": "code",
   "execution_count": 702,
   "metadata": {},
   "outputs": [
    {
     "data": {
      "text/html": [
       "<div>\n",
       "<style scoped>\n",
       "    .dataframe tbody tr th:only-of-type {\n",
       "        vertical-align: middle;\n",
       "    }\n",
       "\n",
       "    .dataframe tbody tr th {\n",
       "        vertical-align: top;\n",
       "    }\n",
       "\n",
       "    .dataframe thead th {\n",
       "        text-align: right;\n",
       "    }\n",
       "</style>\n",
       "<table border=\"1\" class=\"dataframe\">\n",
       "  <thead>\n",
       "    <tr style=\"text-align: right;\">\n",
       "      <th></th>\n",
       "      <th>A</th>\n",
       "      <th>B</th>\n",
       "      <th>C</th>\n",
       "    </tr>\n",
       "  </thead>\n",
       "  <tbody>\n",
       "    <tr>\n",
       "      <th>(A, A)</th>\n",
       "      <td>-0.028643</td>\n",
       "      <td>0.581058</td>\n",
       "      <td>0.000000</td>\n",
       "    </tr>\n",
       "    <tr>\n",
       "      <th>(A, B)</th>\n",
       "      <td>0.214193</td>\n",
       "      <td>0.194618</td>\n",
       "      <td>0.566041</td>\n",
       "    </tr>\n",
       "    <tr>\n",
       "      <th>(A, C)</th>\n",
       "      <td>0.161470</td>\n",
       "      <td>0.000000</td>\n",
       "      <td>0.000000</td>\n",
       "    </tr>\n",
       "    <tr>\n",
       "      <th>(B, A)</th>\n",
       "      <td>0.102550</td>\n",
       "      <td>0.566042</td>\n",
       "      <td>0.130118</td>\n",
       "    </tr>\n",
       "    <tr>\n",
       "      <th>(B, B)</th>\n",
       "      <td>0.566047</td>\n",
       "      <td>0.000000</td>\n",
       "      <td>0.000000</td>\n",
       "    </tr>\n",
       "    <tr>\n",
       "      <th>(B, C)</th>\n",
       "      <td>0.160329</td>\n",
       "      <td>0.566039</td>\n",
       "      <td>0.007659</td>\n",
       "    </tr>\n",
       "    <tr>\n",
       "      <th>(C, A)</th>\n",
       "      <td>-0.032710</td>\n",
       "      <td>0.565831</td>\n",
       "      <td>0.000000</td>\n",
       "    </tr>\n",
       "    <tr>\n",
       "      <th>(C, B)</th>\n",
       "      <td>0.566033</td>\n",
       "      <td>0.189272</td>\n",
       "      <td>0.205891</td>\n",
       "    </tr>\n",
       "    <tr>\n",
       "      <th>(C, C)</th>\n",
       "      <td>0.201124</td>\n",
       "      <td>0.000000</td>\n",
       "      <td>0.000000</td>\n",
       "    </tr>\n",
       "  </tbody>\n",
       "</table>\n",
       "</div>"
      ],
      "text/plain": [
       "               A         B         C\n",
       "(A, A) -0.028643  0.581058  0.000000\n",
       "(A, B)  0.214193  0.194618  0.566041\n",
       "(A, C)  0.161470  0.000000  0.000000\n",
       "(B, A)  0.102550  0.566042  0.130118\n",
       "(B, B)  0.566047  0.000000  0.000000\n",
       "(B, C)  0.160329  0.566039  0.007659\n",
       "(C, A) -0.032710  0.565831  0.000000\n",
       "(C, B)  0.566033  0.189272  0.205891\n",
       "(C, C)  0.201124  0.000000  0.000000"
      ]
     },
     "execution_count": 702,
     "metadata": {},
     "output_type": "execute_result"
    }
   ],
   "source": [
    "q_table_df"
   ]
  },
  {
   "cell_type": "code",
   "execution_count": 703,
   "metadata": {},
   "outputs": [
    {
     "data": {
      "text/plain": [
       "<matplotlib.axes._subplots.AxesSubplot at 0x11ba6cb00>"
      ]
     },
     "execution_count": 703,
     "metadata": {},
     "output_type": "execute_result"
    },
    {
     "data": {
      "image/png": "[encoded data removed]",
      "text/plain": [
       "<Figure size 432x288 with 1 Axes>"
      ]
     },
     "metadata": {
      "needs_background": "light"
     },
     "output_type": "display_data"
    }
   ],
   "source": [
    "TD_zero_norm_rewards = np.cumsum(TD_zero_rewards)/np.arange(1,len(TD_zero_rewards)+1)\n",
    "pd.DataFrame(TD_zero_norm_rewards).plot()"
   ]
  },
  {
   "cell_type": "code",
   "execution_count": 704,
   "metadata": {},
   "outputs": [
    {
     "name": "stdout",
     "output_type": "stream",
     "text": [
      "[('A', 'A', 'B'), ('A', 'B', 'C'), ('A', 'C', 'A'), ('B', 'A', 'B'), ('B', 'B', 'A'), ('B', 'C', 'B'), ('C', 'A', 'B'), ('C', 'B', 'A'), ('C', 'C', 'A')]\n",
      "q_table NOT consistent with W-TRACK rules\n"
     ]
    }
   ],
   "source": [
    "check_q_table(q_table_df)"
   ]
  },
  {
   "cell_type": "markdown",
   "metadata": {},
   "source": [
    "# TD(lambda) with e-greedy"
   ]
  },
  {
   "cell_type": "code",
   "execution_count": 710,
   "metadata": {},
   "outputs": [
    {
     "name": "stdout",
     "output_type": "stream",
     "text": [
      "CPU times: user 1.32 s, sys: 13.7 ms, total: 1.33 s\n",
      "Wall time: 1.47 s\n"
     ]
    }
   ],
   "source": [
    "%%time\n",
    "\n",
    "lamb = 0.9\n",
    "alpha = 0.6\n",
    "gamma = 0.9\n",
    "epsilon = 0.1\n",
    "\n",
    "q_table_df = init_state_df()\n",
    "eligibility_df = init_state_df()\n",
    "\n",
    "state = random.choice(observation_space)\n",
    "TD_lamb_rewards = []\n",
    "\n",
    "for i in range(1, 1000):\n",
    "    # act\n",
    "    if random.uniform(0, 1) < epsilon:\n",
    "        # Explore action space\n",
    "        action = random.choice(all_wells)\n",
    "    else:\n",
    "        action = q_table_df.xs(state).idxmax()\n",
    "    # gather\n",
    "    reward = reward_table[state][action]['reward']\n",
    "    next_state = reward_table[state][action]['next_state']\n",
    "    \n",
    "    old_qvalue = q_table_df.xs(state)[action]\n",
    "    next_max_qvalue = q_table_df.xs(next_state).max()\n",
    "    \n",
    "    # update eligibility\n",
    "    eligibility_df *= lamb * gamma\n",
    "    eligibility_df.xs(state)[action] += 1.0\n",
    "    \n",
    "    #update\n",
    "    td_error = reward + gamma * next_max_qvalue - old_qvalue\n",
    "    new_value = alpha * td_error\n",
    "    eligibility_df *= new_value\n",
    "    q_table_df += eligibility_df\n",
    "    \n",
    "    # iterate\n",
    "    state = reward_table[state][action]['next_state']\n",
    "    #save\n",
    "    TD_lamb_rewards.append(reward)"
   ]
  },
  {
   "cell_type": "code",
   "execution_count": 711,
   "metadata": {},
   "outputs": [
    {
     "data": {
      "text/html": [
       "<div>\n",
       "<style scoped>\n",
       "    .dataframe tbody tr th:only-of-type {\n",
       "        vertical-align: middle;\n",
       "    }\n",
       "\n",
       "    .dataframe tbody tr th {\n",
       "        vertical-align: top;\n",
       "    }\n",
       "\n",
       "    .dataframe thead th {\n",
       "        text-align: right;\n",
       "    }\n",
       "</style>\n",
       "<table border=\"1\" class=\"dataframe\">\n",
       "  <thead>\n",
       "    <tr style=\"text-align: right;\">\n",
       "      <th></th>\n",
       "      <th>A</th>\n",
       "      <th>B</th>\n",
       "      <th>C</th>\n",
       "    </tr>\n",
       "  </thead>\n",
       "  <tbody>\n",
       "    <tr>\n",
       "      <th>(A, A)</th>\n",
       "      <td>6.845222</td>\n",
       "      <td>10.012916</td>\n",
       "      <td>4.760817</td>\n",
       "    </tr>\n",
       "    <tr>\n",
       "      <th>(A, B)</th>\n",
       "      <td>8.916494</td>\n",
       "      <td>9.171275</td>\n",
       "      <td>10.007131</td>\n",
       "    </tr>\n",
       "    <tr>\n",
       "      <th>(A, C)</th>\n",
       "      <td>7.622868</td>\n",
       "      <td>0.000000</td>\n",
       "      <td>0.000000</td>\n",
       "    </tr>\n",
       "    <tr>\n",
       "      <th>(B, A)</th>\n",
       "      <td>8.753182</td>\n",
       "      <td>10.007109</td>\n",
       "      <td>6.413837</td>\n",
       "    </tr>\n",
       "    <tr>\n",
       "      <th>(B, B)</th>\n",
       "      <td>10.033163</td>\n",
       "      <td>0.000000</td>\n",
       "      <td>5.909122</td>\n",
       "    </tr>\n",
       "    <tr>\n",
       "      <th>(B, C)</th>\n",
       "      <td>7.954667</td>\n",
       "      <td>10.007106</td>\n",
       "      <td>3.794119</td>\n",
       "    </tr>\n",
       "    <tr>\n",
       "      <th>(C, A)</th>\n",
       "      <td>8.981178</td>\n",
       "      <td>6.232749</td>\n",
       "      <td>4.181366</td>\n",
       "    </tr>\n",
       "    <tr>\n",
       "      <th>(C, B)</th>\n",
       "      <td>10.006826</td>\n",
       "      <td>8.873886</td>\n",
       "      <td>2.696114</td>\n",
       "    </tr>\n",
       "    <tr>\n",
       "      <th>(C, C)</th>\n",
       "      <td>6.308098</td>\n",
       "      <td>6.015977</td>\n",
       "      <td>3.996793</td>\n",
       "    </tr>\n",
       "  </tbody>\n",
       "</table>\n",
       "</div>"
      ],
      "text/plain": [
       "                A          B          C\n",
       "(A, A)   6.845222  10.012916   4.760817\n",
       "(A, B)   8.916494   9.171275  10.007131\n",
       "(A, C)   7.622868   0.000000   0.000000\n",
       "(B, A)   8.753182  10.007109   6.413837\n",
       "(B, B)  10.033163   0.000000   5.909122\n",
       "(B, C)   7.954667  10.007106   3.794119\n",
       "(C, A)   8.981178   6.232749   4.181366\n",
       "(C, B)  10.006826   8.873886   2.696114\n",
       "(C, C)   6.308098   6.015977   3.996793"
      ]
     },
     "execution_count": 711,
     "metadata": {},
     "output_type": "execute_result"
    }
   ],
   "source": [
    "q_table_df"
   ]
  },
  {
   "cell_type": "code",
   "execution_count": 712,
   "metadata": {},
   "outputs": [
    {
     "name": "stdout",
     "output_type": "stream",
     "text": [
      "[('A', 'A', 'B'), ('A', 'B', 'C'), ('A', 'C', 'A'), ('B', 'A', 'B'), ('B', 'B', 'A'), ('B', 'C', 'B'), ('C', 'A', 'A'), ('C', 'B', 'A'), ('C', 'C', 'A')]\n",
      "q_table NOT consistent with W-TRACK rules\n"
     ]
    }
   ],
   "source": [
    "check_q_table(q_table_df)"
   ]
  },
  {
   "cell_type": "code",
   "execution_count": 713,
   "metadata": {},
   "outputs": [
    {
     "data": {
      "text/plain": [
       "<matplotlib.axes._subplots.AxesSubplot at 0x11bb98240>"
      ]
     },
     "execution_count": 713,
     "metadata": {},
     "output_type": "execute_result"
    },
    {
     "data": {
      "image/png": "[encoded data removed]",
      "text/plain": [
       "<Figure size 432x288 with 1 Axes>"
      ]
     },
     "metadata": {
      "needs_background": "light"
     },
     "output_type": "display_data"
    }
   ],
   "source": [
    "TD_lamb_norm_rewards = np.cumsum(TD_lamb_rewards)/np.arange(1,len(TD_lamb_rewards)+1)\n",
    "pd.DataFrame(TD_lamb_norm_rewards).plot()"
   ]
  },
  {
   "cell_type": "markdown",
   "metadata": {},
   "source": [
    "# TD(lambda) with memory unit"
   ]
  },
  {
   "cell_type": "code",
   "execution_count": 714,
   "metadata": {},
   "outputs": [],
   "source": [
    "def init_mem_obv_df():\n",
    "    mem_obv_pairs = list(itertools.product(all_wells, repeat=2))\n",
    "    zeros_array = np.random.rand(len(mem_obv_pairs), len(action_space))\n",
    "    mem_df_indx = pd.DataFrame(mem_obv_pairs).rename({0:'mem',1:'obsv'}, axis=1).set_index(['mem','obsv']).index\n",
    "    mem_df = pd.DataFrame(zeros_array, index=mem_df_indx, columns=action_space)\n",
    "    return mem_df"
   ]
  },
  {
   "cell_type": "code",
   "execution_count": 715,
   "metadata": {},
   "outputs": [],
   "source": [
    "def init_memory_unit_df():\n",
    "    zeros_array = np.random.rand(len(action_space), len(action_space))\n",
    "    mem_df = pd.DataFrame(zeros_array, index=action_space, columns=action_space)\n",
    "    return mem_df"
   ]
  },
  {
   "cell_type": "code",
   "execution_count": 716,
   "metadata": {},
   "outputs": [
    {
     "name": "stdout",
     "output_type": "stream",
     "text": [
      "CPU times: user 2.76 s, sys: 20.6 ms, total: 2.78 s\n",
      "Wall time: 2.85 s\n"
     ]
    }
   ],
   "source": [
    "%%time\n",
    "\n",
    "lamb = 0.9\n",
    "alpha = 0.6\n",
    "gamma = 0.9\n",
    "epsilon = 0.1\n",
    "\n",
    "q_table_df = init_mem_obv_df()\n",
    "eligibility_df = init_mem_obv_df()\n",
    "\n",
    "mem_df = init_memory_unit_df()\n",
    "mem_eligibility_df = init_memory_unit_df()\n",
    "\n",
    "mem = random.choice(action_space)\n",
    "obsv = random.choice(action_space)\n",
    "TD_lamb_mem_rewards = []\n",
    "\n",
    "for i in range(1, 1000):\n",
    "    # act\n",
    "    if random.uniform(0, 1) < epsilon:\n",
    "        # Explore action space\n",
    "        action = random.choice(all_wells)\n",
    "    else:\n",
    "        action = q_table_df.xs([mem, obsv]).idxmax()\n",
    "\n",
    "    # gather\n",
    "    reward = reward_table[(mem, obsv)][action]['reward']\n",
    "    next_obsv = action\n",
    "    next_mem = mem_df.xs(next_obsv).idxmax()\n",
    "    next_state = [next_mem, next_obsv]\n",
    "    \n",
    "    old_qvalue = q_table_df.xs([mem, obsv])[action]\n",
    "    next_max_qvalue = q_table_df.xs(next_state).max()\n",
    "    \n",
    "    # update qtable eligibility\n",
    "    eligibility_df *= lamb * gamma\n",
    "    eligibility_df.xs([mem, obsv])[action] += 1.0\n",
    "    \n",
    "    # update memory table eligibility\n",
    "    mem_eligibility_df += lamb * gamma\n",
    "    mem_eligibility_df.xs(mem)[obsv] += 1.0\n",
    "    \n",
    "    #get target value (scaled td error)\n",
    "    td_error = reward + gamma * next_max_qvalue - old_qvalue\n",
    "    new_value = alpha * td_error\n",
    "    \n",
    "    #update eligibility tables\n",
    "    eligibility_df *= new_value\n",
    "    mem_eligibility_df *= new_value\n",
    "    \n",
    "    #update q_table and memory unit table\n",
    "    q_table_df += eligibility_df\n",
    "    mem_df += mem_eligibility_df\n",
    "    \n",
    "    # iterate\n",
    "    mem = next_mem\n",
    "    obsv = action\n",
    "\n",
    "    #save\n",
    "    TD_lamb_mem_rewards.append(reward)"
   ]
  },
  {
   "cell_type": "code",
   "execution_count": 717,
   "metadata": {},
   "outputs": [
    {
     "data": {
      "text/html": [
       "<div>\n",
       "<style scoped>\n",
       "    .dataframe tbody tr th:only-of-type {\n",
       "        vertical-align: middle;\n",
       "    }\n",
       "\n",
       "    .dataframe tbody tr th {\n",
       "        vertical-align: top;\n",
       "    }\n",
       "\n",
       "    .dataframe thead th {\n",
       "        text-align: right;\n",
       "    }\n",
       "</style>\n",
       "<table border=\"1\" class=\"dataframe\">\n",
       "  <thead>\n",
       "    <tr style=\"text-align: right;\">\n",
       "      <th></th>\n",
       "      <th>A</th>\n",
       "      <th>B</th>\n",
       "      <th>C</th>\n",
       "    </tr>\n",
       "  </thead>\n",
       "  <tbody>\n",
       "    <tr>\n",
       "      <th>A</th>\n",
       "      <td>84.879858</td>\n",
       "      <td>57.621341</td>\n",
       "      <td>57.814544</td>\n",
       "    </tr>\n",
       "    <tr>\n",
       "      <th>B</th>\n",
       "      <td>57.720802</td>\n",
       "      <td>57.510587</td>\n",
       "      <td>72.170355</td>\n",
       "    </tr>\n",
       "    <tr>\n",
       "      <th>C</th>\n",
       "      <td>58.012065</td>\n",
       "      <td>84.164226</td>\n",
       "      <td>62.085301</td>\n",
       "    </tr>\n",
       "  </tbody>\n",
       "</table>\n",
       "</div>"
      ],
      "text/plain": [
       "           A          B          C\n",
       "A  84.879858  57.621341  57.814544\n",
       "B  57.720802  57.510587  72.170355\n",
       "C  58.012065  84.164226  62.085301"
      ]
     },
     "execution_count": 717,
     "metadata": {},
     "output_type": "execute_result"
    }
   ],
   "source": [
    "mem_df"
   ]
  },
  {
   "cell_type": "code",
   "execution_count": 718,
   "metadata": {},
   "outputs": [
    {
     "data": {
      "text/html": [
       "<div>\n",
       "<style scoped>\n",
       "    .dataframe tbody tr th:only-of-type {\n",
       "        vertical-align: middle;\n",
       "    }\n",
       "\n",
       "    .dataframe tbody tr th {\n",
       "        vertical-align: top;\n",
       "    }\n",
       "\n",
       "    .dataframe thead th {\n",
       "        text-align: right;\n",
       "    }\n",
       "</style>\n",
       "<table border=\"1\" class=\"dataframe\">\n",
       "  <thead>\n",
       "    <tr style=\"text-align: right;\">\n",
       "      <th></th>\n",
       "      <th></th>\n",
       "      <th>A</th>\n",
       "      <th>B</th>\n",
       "      <th>C</th>\n",
       "    </tr>\n",
       "    <tr>\n",
       "      <th>mem</th>\n",
       "      <th>obsv</th>\n",
       "      <th></th>\n",
       "      <th></th>\n",
       "      <th></th>\n",
       "    </tr>\n",
       "  </thead>\n",
       "  <tbody>\n",
       "    <tr>\n",
       "      <th rowspan=\"3\" valign=\"top\">A</th>\n",
       "      <th>A</th>\n",
       "      <td>8.999997</td>\n",
       "      <td>10.000000</td>\n",
       "      <td>9.000478</td>\n",
       "    </tr>\n",
       "    <tr>\n",
       "      <th>B</th>\n",
       "      <td>0.323624</td>\n",
       "      <td>0.757474</td>\n",
       "      <td>0.576111</td>\n",
       "    </tr>\n",
       "    <tr>\n",
       "      <th>C</th>\n",
       "      <td>0.431938</td>\n",
       "      <td>0.955683</td>\n",
       "      <td>0.459913</td>\n",
       "    </tr>\n",
       "    <tr>\n",
       "      <th rowspan=\"3\" valign=\"top\">B</th>\n",
       "      <th>A</th>\n",
       "      <td>0.542359</td>\n",
       "      <td>0.321450</td>\n",
       "      <td>0.592016</td>\n",
       "    </tr>\n",
       "    <tr>\n",
       "      <th>B</th>\n",
       "      <td>0.894336</td>\n",
       "      <td>1.107495</td>\n",
       "      <td>0.980797</td>\n",
       "    </tr>\n",
       "    <tr>\n",
       "      <th>C</th>\n",
       "      <td>5.575648</td>\n",
       "      <td>10.000000</td>\n",
       "      <td>0.894466</td>\n",
       "    </tr>\n",
       "    <tr>\n",
       "      <th rowspan=\"3\" valign=\"top\">C</th>\n",
       "      <th>A</th>\n",
       "      <td>0.433719</td>\n",
       "      <td>0.579052</td>\n",
       "      <td>0.407569</td>\n",
       "    </tr>\n",
       "    <tr>\n",
       "      <th>B</th>\n",
       "      <td>10.000000</td>\n",
       "      <td>8.999991</td>\n",
       "      <td>8.995978</td>\n",
       "    </tr>\n",
       "    <tr>\n",
       "      <th>C</th>\n",
       "      <td>3.032043</td>\n",
       "      <td>0.688569</td>\n",
       "      <td>2.205636</td>\n",
       "    </tr>\n",
       "  </tbody>\n",
       "</table>\n",
       "</div>"
      ],
      "text/plain": [
       "                  A          B         C\n",
       "mem obsv                                \n",
       "A   A      8.999997  10.000000  9.000478\n",
       "    B      0.323624   0.757474  0.576111\n",
       "    C      0.431938   0.955683  0.459913\n",
       "B   A      0.542359   0.321450  0.592016\n",
       "    B      0.894336   1.107495  0.980797\n",
       "    C      5.575648  10.000000  0.894466\n",
       "C   A      0.433719   0.579052  0.407569\n",
       "    B     10.000000   8.999991  8.995978\n",
       "    C      3.032043   0.688569  2.205636"
      ]
     },
     "execution_count": 718,
     "metadata": {},
     "output_type": "execute_result"
    }
   ],
   "source": [
    "q_table_df"
   ]
  },
  {
   "cell_type": "code",
   "execution_count": 719,
   "metadata": {},
   "outputs": [
    {
     "name": "stdout",
     "output_type": "stream",
     "text": [
      "[('A', 'A', 'B'), ('A', 'B', 'B'), ('A', 'C', 'B'), ('B', 'A', 'C'), ('B', 'B', 'B'), ('B', 'C', 'B'), ('C', 'A', 'B'), ('C', 'B', 'A'), ('C', 'C', 'A')]\n",
      "q_table NOT consistent with W-TRACK rules\n"
     ]
    }
   ],
   "source": [
    "check_q_table(q_table_df)"
   ]
  },
  {
   "cell_type": "code",
   "execution_count": 720,
   "metadata": {},
   "outputs": [
    {
     "data": {
      "text/plain": [
       "<matplotlib.axes._subplots.AxesSubplot at 0x11b7ce780>"
      ]
     },
     "execution_count": 720,
     "metadata": {},
     "output_type": "execute_result"
    },
    {
     "data": {
      "image/png": "[encoded data removed]",
      "text/plain": [
       "<Figure size 432x288 with 1 Axes>"
      ]
     },
     "metadata": {
      "needs_background": "light"
     },
     "output_type": "display_data"
    }
   ],
   "source": [
    "TD_lamb_mem_norm_rewards = np.cumsum(TD_lamb_mem_rewards)/np.arange(1,len(TD_lamb_mem_rewards)+1)\n",
    "pd.DataFrame(TD_lamb_mem_norm_rewards).plot()"
   ]
  },
  {
   "cell_type": "code",
   "execution_count": 721,
   "metadata": {},
   "outputs": [
    {
     "data": {
      "text/plain": [
       "<matplotlib.axes._subplots.AxesSubplot at 0x11bba1e10>"
      ]
     },
     "execution_count": 721,
     "metadata": {},
     "output_type": "execute_result"
    },
    {
     "data": {
      "image/png": "[encoded data removed]",
      "text/plain": [
       "<Figure size 432x288 with 1 Axes>"
      ]
     },
     "metadata": {
      "needs_background": "light"
     },
     "output_type": "display_data"
    }
   ],
   "source": [
    "rewards = [TD_lamb_mem_norm_rewards, TD_lamb_norm_rewards, TD_zero_norm_rewards, q_learn_norm_rewards]\n",
    "rewards_array = np.vstack(rewards).T\n",
    "\n",
    "rewards_df = pd.DataFrame(rewards_array, columns=['TD_lamb_mem', 'TD_lamb', 'TD_zero', 'q_learn'])\n",
    "\n",
    "rewards_df.plot()"
   ]
  },
  {
   "cell_type": "code",
   "execution_count": null,
   "metadata": {},
   "outputs": [],
   "source": []
  }
 ],
 "metadata": {
  "kernelspec": {
   "display_name": "Python [conda env:reinforce]",
   "language": "python",
   "name": "conda-env-reinforce-py"
  },
  "language_info": {
   "codemirror_mode": {
    "name": "ipython",
    "version": 3
   },
   "file_extension": ".py",
   "mimetype": "text/x-python",
   "name": "python",
   "nbconvert_exporter": "python",
   "pygments_lexer": "ipython3",
   "version": "3.6.6"
  }
 },
 "nbformat": 4,
 "nbformat_minor": 2
}
